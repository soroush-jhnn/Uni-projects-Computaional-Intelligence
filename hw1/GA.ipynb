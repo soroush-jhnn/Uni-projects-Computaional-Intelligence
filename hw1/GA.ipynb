{
 "cells": [
  {
   "cell_type": "markdown",
   "metadata": {},
   "source": [
    "## Genetic Algorithm"
   ]
  },
  {
   "cell_type": "markdown",
   "metadata": {},
   "source": [
    "The algorithm uses analogs of a genetic representation (bitstrings), fitness (function evaluations), genetic recombination (crossover of bitstrings), and mutation (flipping bits)."
   ]
  },
  {
   "cell_type": "code",
   "execution_count": 1,
   "metadata": {},
   "outputs": [],
   "source": [
    "import numpy as np\n",
    "import pandas as pd\n",
    "from random import randint"
   ]
  },
  {
   "attachments": {},
   "cell_type": "markdown",
   "metadata": {},
   "source": [
    "#### Helper Functions"
   ]
  },
  {
   "cell_type": "code",
   "execution_count": 2,
   "metadata": {},
   "outputs": [],
   "source": [
    "def binary_array_to_int(bin_array):\n",
    "  length = len(bin_array)\n",
    "  result = 0\n",
    "  for i in range(length):\n",
    "    result += 2**(length - i -1)*bin_array[i]\n",
    "  return result\n",
    "\n",
    "def int_to_binarry_array(integer, array_length):\n",
    "  result = []\n",
    "  for i in range(array_length):\n",
    "    result.append(integer %2)\n",
    "    integer = int(integer/2)\n",
    "  result.reverse()\n",
    "  return result\n",
    "\n",
    "\n",
    "def sort_and_nomalize_individuals_scores(individuals_scores, log_mode):\n",
    "  # sort individuals based on their score and sort them in the descending order\n",
    "  sorted_individuals_scores = sorted(individuals_scores, key=lambda x: x[0])[::-1]\n",
    "  raw_scores = [i[0] for i in sorted_individuals_scores]\n",
    "\n",
    "  moved_scores = [i + 2*abs(min(raw_scores)) for i in raw_scores]\n",
    "  normalized_scores = [round(i /sum(moved_scores), 2) for i in moved_scores]\n",
    "  \n",
    "  #print('raw sorted scores: ', raw_scores)\n",
    "  #print('normalized sorted scores: ', normalized_scores)\n",
    "  sort_and_nomalize_individuals_scores = []\n",
    "  \n",
    "  for i in range(len(normalized_scores)):\n",
    "    sort_and_nomalize_individuals_scores.append((normalized_scores[i] , sorted_individuals_scores[i][1]))\n",
    "  log(f'individuals and their normalized fitness scores, sorted by scores: {sort_and_nomalize_individuals_scores}', log_mode)\n",
    "  return sort_and_nomalize_individuals_scores\n",
    "\n",
    "def log(string, log_mode):\n",
    "  if log_mode:\n",
    "    print(string)\n"
   ]
  },
  {
   "attachments": {},
   "cell_type": "markdown",
   "metadata": {},
   "source": [
    "#### Getting Inputs"
   ]
  },
  {
   "cell_type": "code",
   "execution_count": 3,
   "metadata": {},
   "outputs": [
    {
     "ename": "ValueError",
     "evalue": "invalid literal for int() with base 10: ''",
     "output_type": "error",
     "traceback": [
      "\u001b[1;31m---------------------------------------------------------------------------\u001b[0m",
      "\u001b[1;31mValueError\u001b[0m                                Traceback (most recent call last)",
      "\u001b[1;32md:\\download\\7th SEMESTER\\Computaional Intelligence\\hw\\2\\GA.ipynb Cell 7\u001b[0m in \u001b[0;36m<cell line: 2>\u001b[1;34m()\u001b[0m\n\u001b[0;32m      <a href='vscode-notebook-cell:/d%3A/download/7th%20SEMESTER/Computaional%20Intelligence/hw/2/GA.ipynb#W6sZmlsZQ%3D%3D?line=0'>1</a>\u001b[0m indiv_length \u001b[39m=\u001b[39m \u001b[39m5\u001b[39m \u001b[39m# because it should be between 0 and 30, which is 2^5\u001b[39;00m\n\u001b[1;32m----> <a href='vscode-notebook-cell:/d%3A/download/7th%20SEMESTER/Computaional%20Intelligence/hw/2/GA.ipynb#W6sZmlsZQ%3D%3D?line=1'>2</a>\u001b[0m n_population \u001b[39m=\u001b[39m \u001b[39mint\u001b[39;49m(\u001b[39minput\u001b[39;49m(\u001b[39m'\u001b[39;49m\u001b[39mEnter the population number: \u001b[39;49m\u001b[39m'\u001b[39;49m))\n\u001b[0;32m      <a href='vscode-notebook-cell:/d%3A/download/7th%20SEMESTER/Computaional%20Intelligence/hw/2/GA.ipynb#W6sZmlsZQ%3D%3D?line=2'>3</a>\u001b[0m mutat_probability \u001b[39m=\u001b[39m \u001b[39mfloat\u001b[39m(\u001b[39minput\u001b[39m(\u001b[39m'\u001b[39m\u001b[39mEnter mutation probability: \u001b[39m\u001b[39m'\u001b[39m))\n\u001b[0;32m      <a href='vscode-notebook-cell:/d%3A/download/7th%20SEMESTER/Computaional%20Intelligence/hw/2/GA.ipynb#W6sZmlsZQ%3D%3D?line=3'>4</a>\u001b[0m comb_probability \u001b[39m=\u001b[39m \u001b[39mfloat\u001b[39m(\u001b[39minput\u001b[39m(\u001b[39m'\u001b[39m\u001b[39mEnter combination probability: \u001b[39m\u001b[39m'\u001b[39m))\n",
      "\u001b[1;31mValueError\u001b[0m: invalid literal for int() with base 10: ''"
     ]
    }
   ],
   "source": [
    "indiv_length = 5 # because it should be between 0 and 30, which is 2^5\n",
    "n_population = int(input('Enter the population number: '))\n",
    "mutat_probability = float(input('Enter mutation probability: '))\n",
    "comb_probability = float(input('Enter combination probability: '))\n",
    "comb_type = int(input('Enter combination type, 1 for one-point and 2 for uniform: '))\n",
    "max_loop_iter = int(input('Enter maximum number of loop iteration: '))\n",
    "log_mode = True"
   ]
  },
  {
   "cell_type": "markdown",
   "metadata": {},
   "source": [
    "#### Initialize the Population"
   ]
  },
  {
   "cell_type": "code",
   "execution_count": null,
   "metadata": {},
   "outputs": [],
   "source": [
    "def initialize_populatoin(indiv_length, n_population, log_mode):\n",
    "  population = [np.random.randint(0, 2, indiv_length) for _ in range(n_population)]\n",
    "  log(f'initial population: {population}', log_mode)\n",
    "  return population"
   ]
  },
  {
   "attachments": {},
   "cell_type": "markdown",
   "metadata": {},
   "source": [
    "#### Fitness Function"
   ]
  },
  {
   "cell_type": "code",
   "execution_count": null,
   "metadata": {},
   "outputs": [],
   "source": [
    "def fitness(individual):\n",
    "  individual_integer_form = binary_array_to_int(individual)\n",
    "  # -x^2 + 6x\n",
    "  score = - individual_integer_form**2 + 6*individual_integer_form\n",
    "  return score"
   ]
  },
  {
   "cell_type": "markdown",
   "metadata": {},
   "source": [
    "#### Parent Selection"
   ]
  },
  {
   "cell_type": "code",
   "execution_count": null,
   "metadata": {},
   "outputs": [],
   "source": [
    "def roulette_wheel_selection(population, log_mode):\n",
    "  cumulative_propapilities = []\n",
    "  for i in range(len(population)):\n",
    "    #print('individual: ', population[i])\n",
    "    if i ==0:\n",
    "      cumulative_propapilities.append(population[i][0])\n",
    "    else:\n",
    "      cumulative_propapilities.append(round(population[i][0] + cumulative_propapilities[i-1], 2))\n",
    "  cumulative_propapilities[len(cumulative_propapilities)-1] = 1.0\n",
    "  log(f'roulette wheel(cumulative_propapilities): {cumulative_propapilities}', log_mode)\n",
    "\n",
    "  # roulette wheel \n",
    "  parents = []\n",
    "  for _ in range(len(population)):\n",
    "    random_num = np.random.random()\n",
    "    for i in range(len(cumulative_propapilities)):\n",
    "      if random_num < cumulative_propapilities[i]:\n",
    "        parents.append(population[i][1])\n",
    "        break\n",
    "  log(f'parents of new population: {parents}', log_mode)\n",
    "  return parents"
   ]
  },
  {
   "cell_type": "markdown",
   "metadata": {},
   "source": [
    "#### Crossover"
   ]
  },
  {
   "cell_type": "code",
   "execution_count": null,
   "metadata": {},
   "outputs": [
    {
     "ename": "NameError",
     "evalue": "name 'log_mode' is not defined",
     "output_type": "error",
     "traceback": [
      "\u001b[1;31m---------------------------------------------------------------------------\u001b[0m",
      "\u001b[1;31mNameError\u001b[0m                                 Traceback (most recent call last)",
      "\u001b[1;32md:\\download\\7th SEMESTER\\Computaional Intelligence\\hw\\2\\GA.ipynb Cell 15\u001b[0m in \u001b[0;36m<cell line: 55>\u001b[1;34m()\u001b[0m\n\u001b[0;32m     <a href='vscode-notebook-cell:/d%3A/download/7th%20SEMESTER/Computaional%20Intelligence/hw/2/GA.ipynb#X20sZmlsZQ%3D%3D?line=52'>53</a>\u001b[0m       log(\u001b[39mf\u001b[39m\u001b[39m'\u001b[39m\u001b[39mchild1: \u001b[39m\u001b[39m{\u001b[39;00mparents[\u001b[39mlen\u001b[39m(parents)\u001b[39m-\u001b[39m\u001b[39m1\u001b[39m \u001b[39m-\u001b[39mi]\u001b[39m.\u001b[39mtolist()\u001b[39m}\u001b[39;00m\u001b[39m (same as parent)\u001b[39m\u001b[39m'\u001b[39m, log_mode)\n\u001b[0;32m     <a href='vscode-notebook-cell:/d%3A/download/7th%20SEMESTER/Computaional%20Intelligence/hw/2/GA.ipynb#X20sZmlsZQ%3D%3D?line=53'>54</a>\u001b[0m   \u001b[39mreturn\u001b[39;00m crossover_result\n\u001b[1;32m---> <a href='vscode-notebook-cell:/d%3A/download/7th%20SEMESTER/Computaional%20Intelligence/hw/2/GA.ipynb#X20sZmlsZQ%3D%3D?line=54'>55</a>\u001b[0m crossover([np\u001b[39m.\u001b[39marray([\u001b[39m1\u001b[39m, \u001b[39m0\u001b[39m, \u001b[39m0\u001b[39m, \u001b[39m0\u001b[39m, \u001b[39m1\u001b[39m]),np\u001b[39m.\u001b[39marray([\u001b[39m0\u001b[39m, \u001b[39m1\u001b[39m, \u001b[39m1\u001b[39m, \u001b[39m0\u001b[39m, \u001b[39m1\u001b[39m]), np\u001b[39m.\u001b[39marray([\u001b[39m0\u001b[39m, \u001b[39m1\u001b[39m, \u001b[39m0\u001b[39m, \u001b[39m1\u001b[39m, \u001b[39m1\u001b[39m]),np\u001b[39m.\u001b[39marray([\u001b[39m1\u001b[39m, \u001b[39m1\u001b[39m, \u001b[39m1\u001b[39m, \u001b[39m1\u001b[39m, \u001b[39m1\u001b[39m])], \u001b[39m5\u001b[39m, \u001b[39m.7\u001b[39m, \u001b[39m2\u001b[39m , log_mode)\n",
      "\u001b[1;31mNameError\u001b[0m: name 'log_mode' is not defined"
     ]
    }
   ],
   "source": [
    "def crossover(parents, indiv_length, comb_probability, comb_type, log_mode):\n",
    "  log('combination...', log_mode)\n",
    "  crossover_result = []\n",
    "\n",
    "  #select pairs\n",
    "  for i in range(int(len(parents)/2)):\n",
    "    random_comb = np.random.random()\n",
    "    if(random_comb < comb_probability):\n",
    "      # add tolist() because chromosomes are of np.array form \n",
    "      parent1 = parents[i].tolist()\n",
    "      parent2 = parents[len(parents)-1 -i].tolist()\n",
    "      # 1-point crossover\n",
    "      if comb_type == 1:  \n",
    "        random_index = np.random.randint(1, indiv_length-1)\n",
    "        child1 = np.array(parent1[:random_index]+parent2[random_index:])\n",
    "        child2 = np.array(parent2[:random_index]+parent1[random_index:])\n",
    "        crossover_result.append(child1)\n",
    "        crossover_result.append(child2)\n",
    "        log(f'random index is: {random_index}', log_mode)\n",
    "        log(f'parent1: {parent1[:random_index]}{parent1[random_index:]}', log_mode)\n",
    "        log(f'parent2: {parent2[:random_index]}{parent2[random_index:]}', log_mode)\n",
    "        log(f'child1: {parent1[:random_index]+parent2[random_index:]}', log_mode)\n",
    "        log(f'child2: {parent2[:random_index]+parent1[random_index:]}', log_mode)\n",
    "\n",
    "      # uniform crossover\n",
    "      elif comb_type==2: \n",
    "        parent1 = parents[i].tolist()\n",
    "        parent2 = parents[len(parents)-1 -i].tolist()\n",
    "        child1 = []\n",
    "        child2 = []\n",
    "        for j in range(indiv_length):\n",
    "          random_result = np.random.random()\n",
    "          if random_result <.5:\n",
    "            child1.append(parent1[j])\n",
    "            child2.append(parent2[j])\n",
    "          else:\n",
    "            child1.append(parent2[j])\n",
    "            child2.append(parent1[j])\n",
    "          \n",
    "        crossover_result.append(np.array(child1))\n",
    "        crossover_result.append(np.array(child2))\n",
    "        log(f'parent1: {parent1}', log_mode)\n",
    "        log(f'parent2: {parent2}', log_mode)\n",
    "        log(f'child1: {child1}', log_mode)\n",
    "        log(f'child2: {child2}', log_mode)\n",
    "\n",
    "\n",
    "    else:\n",
    "      crossover_result.append(parents[i])\n",
    "      crossover_result.append(parents[len(parents)-1-i])\n",
    "      log(f'not perfom crossover for the {i}th pair or chromosomes because the outcome of random is {round(random_comb)}, where as combination probability is: {comb_probability}', log_mode)\n",
    "      log(f'child1: {parents[i].tolist()} (sam as parent)', log_mode)\n",
    "      log(f'child1: {parents[len(parents)-1 -i].tolist()} (same as parent)', log_mode)\n",
    "  return crossover_result\n",
    "crossover([np.array([1, 0, 0, 0, 1]),np.array([0, 1, 1, 0, 1]), np.array([0, 1, 0, 1, 1]),np.array([1, 1, 1, 1, 1])], 5, .7, 2 , log_mode)"
   ]
  },
  {
   "cell_type": "markdown",
   "metadata": {},
   "source": [
    "#### Mutation"
   ]
  },
  {
   "cell_type": "code",
   "execution_count": null,
   "metadata": {},
   "outputs": [
    {
     "ename": "NameError",
     "evalue": "name 'np' is not defined",
     "output_type": "error",
     "traceback": [
      "\u001b[1;31m---------------------------------------------------------------------------\u001b[0m",
      "\u001b[1;31mNameError\u001b[0m                                 Traceback (most recent call last)",
      "\u001b[1;32md:\\download\\7th SEMESTER\\Computaional Intelligence\\hw\\2\\GA.ipynb Cell 17\u001b[0m in \u001b[0;36m<cell line: 21>\u001b[1;34m()\u001b[0m\n\u001b[0;32m     <a href='vscode-notebook-cell:/d%3A/download/7th%20SEMESTER/Computaional%20Intelligence/hw/2/GA.ipynb#X22sZmlsZQ%3D%3D?line=17'>18</a>\u001b[0m     log(\u001b[39mf\u001b[39m\u001b[39m'\u001b[39m\u001b[39mchild: \u001b[39m\u001b[39m{\u001b[39;00mchild\u001b[39m}\u001b[39;00m\u001b[39m'\u001b[39m, log_mode)\n\u001b[0;32m     <a href='vscode-notebook-cell:/d%3A/download/7th%20SEMESTER/Computaional%20Intelligence/hw/2/GA.ipynb#X22sZmlsZQ%3D%3D?line=19'>20</a>\u001b[0m   \u001b[39mreturn\u001b[39;00m mutation_result\n\u001b[1;32m---> <a href='vscode-notebook-cell:/d%3A/download/7th%20SEMESTER/Computaional%20Intelligence/hw/2/GA.ipynb#X22sZmlsZQ%3D%3D?line=20'>21</a>\u001b[0m mutation([np\u001b[39m.\u001b[39marray([\u001b[39m1\u001b[39m, \u001b[39m0\u001b[39m, \u001b[39m0\u001b[39m, \u001b[39m0\u001b[39m, \u001b[39m1\u001b[39m]),np\u001b[39m.\u001b[39marray([\u001b[39m0\u001b[39m, \u001b[39m1\u001b[39m, \u001b[39m1\u001b[39m, \u001b[39m0\u001b[39m, \u001b[39m1\u001b[39m]), np\u001b[39m.\u001b[39marray([\u001b[39m0\u001b[39m, \u001b[39m1\u001b[39m, \u001b[39m0\u001b[39m, \u001b[39m1\u001b[39m, \u001b[39m1\u001b[39m]),np\u001b[39m.\u001b[39marray([\u001b[39m1\u001b[39m, \u001b[39m1\u001b[39m, \u001b[39m1\u001b[39m, \u001b[39m1\u001b[39m, \u001b[39m1\u001b[39m])], \u001b[39m5\u001b[39m, \u001b[39m.6\u001b[39m , \u001b[39mTrue\u001b[39;00m)\n",
      "\u001b[1;31mNameError\u001b[0m: name 'np' is not defined"
     ]
    }
   ],
   "source": [
    "def mutation(parents, indiv_length, mutat_probability, log_mode):\n",
    "  log('mutation...', log)\n",
    "  mutation_result = []\n",
    "  #select pairs\n",
    "  for i in range(int(len(parents))):\n",
    "    parent = parents[i].tolist()\n",
    "    child = []\n",
    "    for j in range(indiv_length):\n",
    "      random_result = np.random.random()\n",
    "      #print(f'random is: {round(random_result, 2)} and mutation probability is: {mutat_probability}')\n",
    "      if random_result < mutat_probability:\n",
    "        # mutation happens for gene #j\n",
    "        child.append(1-parent[j])\n",
    "      else:\n",
    "        child.append(parent[j])\n",
    "    mutation_result.append(np.array(child))\n",
    "    log(f'parent: {parent}', log_mode)\n",
    "    log(f'child: {child}', log_mode)\n",
    "\n",
    "  return mutation_result\n",
    "mutation([np.array([1, 0, 0, 0, 1]),np.array([0, 1, 1, 0, 1]), np.array([0, 1, 0, 1, 1]),np.array([1, 1, 1, 1, 1])], 5, .6 , True)"
   ]
  },
  {
   "attachments": {},
   "cell_type": "markdown",
   "metadata": {},
   "source": [
    "#### Genetic Algorithm"
   ]
  },
  {
   "cell_type": "code",
   "execution_count": null,
   "metadata": {},
   "outputs": [
    {
     "ename": "NameError",
     "evalue": "name 'indiv_length' is not defined",
     "output_type": "error",
     "traceback": [
      "\u001b[1;31m---------------------------------------------------------------------------\u001b[0m",
      "\u001b[1;31mNameError\u001b[0m                                 Traceback (most recent call last)",
      "\u001b[1;32md:\\download\\7th SEMESTER\\Computaional Intelligence\\hw\\2\\GA.ipynb Cell 19\u001b[0m in \u001b[0;36m<cell line: 26>\u001b[1;34m()\u001b[0m\n\u001b[0;32m     <a href='vscode-notebook-cell:/d%3A/download/7th%20SEMESTER/Computaional%20Intelligence/hw/2/GA.ipynb#X24sZmlsZQ%3D%3D?line=20'>21</a>\u001b[0m     population \u001b[39m=\u001b[39m mutation_result\n\u001b[0;32m     <a href='vscode-notebook-cell:/d%3A/download/7th%20SEMESTER/Computaional%20Intelligence/hw/2/GA.ipynb#X24sZmlsZQ%3D%3D?line=23'>24</a>\u001b[0m   log(\u001b[39mf\u001b[39m\u001b[39m'\u001b[39m\u001b[39mfittest individual is: \u001b[39m\u001b[39m{\u001b[39;00mbinary_array_to_int(fittest_individual)\u001b[39m}\u001b[39;00m\u001b[39m, binarry representation: \u001b[39m\u001b[39m{\u001b[39;00mfittest_individual\u001b[39m.\u001b[39mtolist()\u001b[39m}\u001b[39;00m\u001b[39m, wih score: \u001b[39m\u001b[39m{\u001b[39;00mbest_score\u001b[39m}\u001b[39;00m\u001b[39m'\u001b[39m, log_mode)\n\u001b[1;32m---> <a href='vscode-notebook-cell:/d%3A/download/7th%20SEMESTER/Computaional%20Intelligence/hw/2/GA.ipynb#X24sZmlsZQ%3D%3D?line=25'>26</a>\u001b[0m GA(indiv_length, n_population, mutat_probability, comb_probability, comb_type, max_loop_iter, log_mode)\n",
      "\u001b[1;31mNameError\u001b[0m: name 'indiv_length' is not defined"
     ]
    }
   ],
   "source": [
    "def GA(indiv_length, n_population, mutat_probability, comb_probability, comb_type, max_loop_iter, log_mode):\n",
    "  population = initialize_populatoin(indiv_length, n_population, log_mode)\n",
    "  best_score = -100000\n",
    "  fittest_individual = None\n",
    "  for _ in range(max_loop_iter):\n",
    "    log(f'population of gen#{_}: {population}', log_mode)\n",
    "    individuals_scores = []\n",
    "    for individual in population:\n",
    "      score = fitness(individual)\n",
    "      if score > best_score:\n",
    "        best_score, fittest_individual= score, individual\n",
    "      individuals_scores.append((score, individual))\n",
    "    sorted_and_nomalized_individuals_scores = sort_and_nomalize_individuals_scores(individuals_scores, log_mode)\n",
    "    #selection\n",
    "    parents = roulette_wheel_selection(sorted_and_nomalized_individuals_scores, log_mode)\n",
    "    #crossover\n",
    "    crossover_result = crossover(parents, indiv_length, comb_probability, comb_type, log_mode)\n",
    "    #mutation\n",
    "    mutation_result = mutation(crossover_result, indiv_length, mutat_probability, log_mode)\n",
    "  \n",
    "    population = mutation_result\n",
    "    \n",
    "  \n",
    "  log(f'fittest individual is: {binary_array_to_int(fittest_individual)}, binarry representation: {fittest_individual.tolist()}, wih score: {best_score}', log_mode)\n",
    "\n",
    "GA(indiv_length, n_population, mutat_probability, comb_probability, comb_type, max_loop_iter, log_mode)"
   ]
  }
 ],
 "metadata": {
  "kernelspec": {
   "display_name": "Python 3",
   "language": "python",
   "name": "python3"
  },
  "language_info": {
   "codemirror_mode": {
    "name": "ipython",
    "version": 3
   },
   "file_extension": ".py",
   "mimetype": "text/x-python",
   "name": "python",
   "nbconvert_exporter": "python",
   "pygments_lexer": "ipython3",
   "version": "3.10.5"
  },
  "orig_nbformat": 4,
  "vscode": {
   "interpreter": {
    "hash": "afb734500600fd355917ca529030176ea0ca205570884b88f2f6f7d791fd3fbe"
   }
  }
 },
 "nbformat": 4,
 "nbformat_minor": 2
}
